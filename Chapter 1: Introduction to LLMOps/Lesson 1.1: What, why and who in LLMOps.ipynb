{
 "cells": [
  {
   "cell_type": "markdown",
   "metadata": {},
   "source": [
    "# Lesson 1.1: What, why and who in LLMOps"
   ]
  },
  {
   "cell_type": "markdown",
   "metadata": {},
   "source": [
    "## Learning Objectives:\n",
    "\n",
    "- Learner will be able to define what the concept of LLMOps means.\n",
    "- Learner will be able to explain why LLMOps is important in efficiently and effectively operating LLMs in production environments, with an emphasis on the benefits of its implementation.\n",
    "- Learner will be able to identify who are the key stakeholders involved in LLMOps and their respective roles and responsibilities."
   ]
  }
 ],
 "metadata": {
  "language_info": {
   "name": "python"
  }
 },
 "nbformat": 4,
 "nbformat_minor": 2
}
